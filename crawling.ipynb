{
 "cells": [
  {
   "cell_type": "code",
   "execution_count": 1,
   "metadata": {},
   "outputs": [
    {
     "name": "stdout",
     "output_type": "stream",
     "text": [
      "Collecting beautifulsoup4\n",
      "  Using cached beautifulsoup4-4.12.3-py3-none-any.whl.metadata (3.8 kB)\n",
      "Collecting soupsieve>1.2 (from beautifulsoup4)\n",
      "  Using cached soupsieve-2.6-py3-none-any.whl.metadata (4.6 kB)\n",
      "Using cached beautifulsoup4-4.12.3-py3-none-any.whl (147 kB)\n",
      "Using cached soupsieve-2.6-py3-none-any.whl (36 kB)\n",
      "Installing collected packages: soupsieve, beautifulsoup4\n",
      "Successfully installed beautifulsoup4-4.12.3 soupsieve-2.6\n",
      "Note: you may need to restart the kernel to use updated packages.\n"
     ]
    }
   ],
   "source": [
    "%pip install beautifulsoup4"
   ]
  },
  {
   "cell_type": "code",
   "execution_count": 4,
   "metadata": {},
   "outputs": [
    {
     "name": "stdout",
     "output_type": "stream",
     "text": [
      "<!DOCTYPE html>\n",
      "\n",
      "<html lang=\"en\">\n",
      "<head>\n",
      "<meta charset=\"utf-8\"/>\n",
      "<meta content=\"width=device-width, initial-scale=1.0\" name=\"viewport\"/>\n",
      "<title>Document</title>\n",
      "</head>\n",
      "<body>\n",
      "<h1> 시장 가서 사야 할 과일 목록</h1>\n",
      "<div>\n",
      "<p class=\"name1\" id=\"fruits1\" title=\"바나나\">바나나\n",
      "                <span class=\"price\">3000원</span>\n",
      "<span class=\"count\">10개</span>\n",
      "<span class=\"store\">   바나나가게</span>\n",
      "<a href=\"https://www.banana.com\">banana.com</a>\n",
      "</p>\n",
      "</div>\n",
      "<div>\n",
      "<p class=\"name2\" id=\"fruits2\" title=\"사과\">사과\n",
      "                <span class=\"price\">100원</span>\n",
      "<span class=\"count\">50개</span>\n",
      "<span class=\"store\">   사과가게</span>\n",
      "<a href=\"https://www.apple.com\">apple.com</a>\n",
      "</p>\n",
      "</div>\n",
      "<div>\n",
      "<p class=\"name3\" id=\"fruits3\" title=\"오렌지\">오렌지\n",
      "                <span class=\"price\">500원</span>\n",
      "<span class=\"count\">20개</span>\n",
      "<span class=\"store\">   오렌지가게</span>\n",
      "<a href=\"https://www.orange.com\">apple.com</a>\n",
      "</p>\n",
      "</div>\n",
      "</body>\n",
      "</html>\n"
     ]
    }
   ],
   "source": [
    "from bs4 import BeautifulSoup\n",
    "\n",
    "webpage = open('sample02.html','r',encoding='utf-8')\n",
    "bsObject = BeautifulSoup(webpage, 'html.parser')\n",
    "\n",
    "print(bsObject)"
   ]
  },
  {
   "cell_type": "markdown",
   "metadata": {},
   "source": [
    "* select나 find로 태그 찾고 string이나 text로 그 안의 텍스트 가져오기\n",
    "* split, string 전처리 위해 많이 사용"
   ]
  },
  {
   "cell_type": "code",
   "execution_count": 7,
   "metadata": {},
   "outputs": [
    {
     "data": {
      "text/plain": [
       "<p class=\"name1\" id=\"fruits1\" title=\"바나나\">바나나\n",
       "                <span class=\"price\">3000원</span>\n",
       "<span class=\"count\">10개</span>\n",
       "<span class=\"store\">   바나나가게</span>\n",
       "<a href=\"https://www.banana.com\">banana.com</a>\n",
       "</p>"
      ]
     },
     "execution_count": 7,
     "metadata": {},
     "output_type": "execute_result"
    }
   ],
   "source": [
    "tag_div = bsObject.find('div')\n",
    "tag_p = bsObject.find('p')\n",
    "tag_p"
   ]
  },
  {
   "cell_type": "code",
   "execution_count": 12,
   "metadata": {},
   "outputs": [
    {
     "data": {
      "text/plain": [
       "<p class=\"name1\" id=\"fruits1\" title=\"바나나\">바나나\n",
       "                <span class=\"price\">3000원</span>\n",
       "<span class=\"count\">10개</span>\n",
       "<span class=\"store\">   바나나가게</span>\n",
       "<a href=\"https://www.banana.com\">banana.com</a>\n",
       "</p>"
      ]
     },
     "execution_count": 12,
     "metadata": {},
     "output_type": "execute_result"
    }
   ],
   "source": [
    "tag_p_all = bsObject.find_all('p') # find_all 은 리스트로 만들어짐\n",
    "tag_p_all[0]"
   ]
  },
  {
   "cell_type": "code",
   "execution_count": 17,
   "metadata": {},
   "outputs": [],
   "source": [
    "p_data = bsObject.select('p')"
   ]
  },
  {
   "cell_type": "code",
   "execution_count": 18,
   "metadata": {},
   "outputs": [
    {
     "name": "stdout",
     "output_type": "stream",
     "text": [
      "None\n"
     ]
    }
   ],
   "source": [
    "print(p_data[1].string)"
   ]
  },
  {
   "cell_type": "code",
   "execution_count": 20,
   "metadata": {},
   "outputs": [],
   "source": [
    "span_data = bsObject.select('span')"
   ]
  },
  {
   "cell_type": "code",
   "execution_count": 24,
   "metadata": {},
   "outputs": [
    {
     "name": "stdout",
     "output_type": "stream",
     "text": [
      "50개\n"
     ]
    }
   ],
   "source": [
    "print(span_data[4].string)"
   ]
  },
  {
   "cell_type": "code",
   "execution_count": 25,
   "metadata": {},
   "outputs": [
    {
     "name": "stdout",
     "output_type": "stream",
     "text": [
      "사과\n",
      "                100원\n",
      "50개\n",
      "   사과가게\n",
      "apple.com\n",
      "\n"
     ]
    }
   ],
   "source": [
    "print(p_data[1].text)"
   ]
  },
  {
   "cell_type": "code",
   "execution_count": 31,
   "metadata": {},
   "outputs": [
    {
     "name": "stdout",
     "output_type": "stream",
     "text": [
      "바나나\n",
      "==\n",
      "3000원\n",
      "==\n",
      "\n",
      "==\n",
      "10개\n",
      "==\n",
      "\n",
      "==\n",
      "바나나가게\n",
      "==\n",
      "\n",
      "==\n",
      "banana.com\n",
      "==\n",
      "\n",
      "==\n",
      "사과\n",
      "==\n",
      "100원\n",
      "==\n",
      "\n",
      "==\n",
      "50개\n",
      "==\n",
      "\n",
      "==\n",
      "사과가게\n",
      "==\n",
      "\n",
      "==\n",
      "apple.com\n",
      "==\n",
      "\n",
      "==\n",
      "오렌지\n",
      "==\n",
      "500원\n",
      "==\n",
      "\n",
      "==\n",
      "20개\n",
      "==\n",
      "\n",
      "==\n",
      "오렌지가게\n",
      "==\n",
      "\n",
      "==\n",
      "apple.com\n",
      "==\n",
      "\n",
      "==\n"
     ]
    }
   ],
   "source": [
    "for i in p_data:\n",
    "    for j in i:\n",
    "        print(j.string.strip()) # j.text도 됨. strip은 공백 없앰.\n",
    "        print('==')"
   ]
  },
  {
   "cell_type": "code",
   "execution_count": 40,
   "metadata": {},
   "outputs": [
    {
     "name": "stdout",
     "output_type": "stream",
     "text": [
      "['바나나', '3000원', '10개', '바나나가게', 'banana.com']\n",
      "['사과', '100원', '50개', '사과가게', 'apple.com']\n",
      "['오렌지', '500원', '20개', '오렌지가게', 'apple.com']\n"
     ]
    }
   ],
   "source": [
    "for i in p_data:\n",
    "    k = i.text.split()\n",
    "    print(k)"
   ]
  },
  {
   "cell_type": "code",
   "execution_count": 39,
   "metadata": {},
   "outputs": [
    {
     "name": "stdout",
     "output_type": "stream",
     "text": [
      "바나나\n",
      "3000원\n",
      "10개\n",
      "바나나가게\n",
      "banana.com\n",
      "사과\n",
      "100원\n",
      "50개\n",
      "사과가게\n",
      "apple.com\n",
      "오렌지\n",
      "500원\n",
      "20개\n",
      "오렌지가게\n",
      "apple.com\n"
     ]
    }
   ],
   "source": [
    "for i in p_data:\n",
    "    k = i.text.split()\n",
    "    for j in k:\n",
    "        print(j)"
   ]
  },
  {
   "cell_type": "code",
   "execution_count": null,
   "metadata": {},
   "outputs": [],
   "source": []
  }
 ],
 "metadata": {
  "kernelspec": {
   "display_name": "data_analysis",
   "language": "python",
   "name": "python3"
  },
  "language_info": {
   "codemirror_mode": {
    "name": "ipython",
    "version": 3
   },
   "file_extension": ".py",
   "mimetype": "text/x-python",
   "name": "python",
   "nbconvert_exporter": "python",
   "pygments_lexer": "ipython3",
   "version": "3.13.1"
  }
 },
 "nbformat": 4,
 "nbformat_minor": 2
}
