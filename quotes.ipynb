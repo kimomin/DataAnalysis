{
 "cells": [
  {
   "cell_type": "code",
   "execution_count": 1,
   "metadata": {},
   "outputs": [
    {
     "name": "stdout",
     "output_type": "stream",
     "text": [
      "Collecting requests\n",
      "  Using cached requests-2.32.3-py3-none-any.whl.metadata (4.6 kB)\n",
      "Collecting charset-normalizer<4,>=2 (from requests)\n",
      "  Downloading charset_normalizer-3.4.1-cp313-cp313-macosx_10_13_universal2.whl.metadata (35 kB)\n",
      "Collecting idna<4,>=2.5 (from requests)\n",
      "  Using cached idna-3.10-py3-none-any.whl.metadata (10 kB)\n",
      "Collecting urllib3<3,>=1.21.1 (from requests)\n",
      "  Downloading urllib3-2.3.0-py3-none-any.whl.metadata (6.5 kB)\n",
      "Collecting certifi>=2017.4.17 (from requests)\n",
      "  Downloading certifi-2025.1.31-py3-none-any.whl.metadata (2.5 kB)\n",
      "Using cached requests-2.32.3-py3-none-any.whl (64 kB)\n",
      "Downloading certifi-2025.1.31-py3-none-any.whl (166 kB)\n",
      "Downloading charset_normalizer-3.4.1-cp313-cp313-macosx_10_13_universal2.whl (195 kB)\n",
      "Using cached idna-3.10-py3-none-any.whl (70 kB)\n",
      "Downloading urllib3-2.3.0-py3-none-any.whl (128 kB)\n",
      "Installing collected packages: urllib3, idna, charset-normalizer, certifi, requests\n",
      "Successfully installed certifi-2025.1.31 charset-normalizer-3.4.1 idna-3.10 requests-2.32.3 urllib3-2.3.0\n",
      "Note: you may need to restart the kernel to use updated packages.\n"
     ]
    }
   ],
   "source": [
    "%pip install requests"
   ]
  },
  {
   "cell_type": "code",
   "execution_count": 14,
   "metadata": {},
   "outputs": [],
   "source": [
    "from bs4 import BeautifulSoup\n",
    "import requests\n",
    "\n",
    "html = requests.get('https://quotes.toscrape.com/tag/humor/page/1/').text\n",
    "# html.raise_for_status # 200이라고 나오면 성공, 400이라고 나오면 실패\n",
    "soup = BeautifulSoup(html, 'html.parser') # html.parser 안 적어도 됨. 이게 기본.\n",
    "\n",
    "quote = soup.find_all('div',class_=\"quote\") # find_all 쓸 때 class_ 처럼 언더바 써야 함"
   ]
  },
  {
   "cell_type": "code",
   "execution_count": 15,
   "metadata": {},
   "outputs": [
    {
     "name": "stdout",
     "output_type": "stream",
     "text": [
      "10\n",
      "[<div class=\"quote\" itemscope=\"\" itemtype=\"http://schema.org/CreativeWork\">\n",
      "<span class=\"text\" itemprop=\"text\">“The person, be it gentleman or lady, who has not pleasure in a good novel, must be intolerably stupid.”</span>\n",
      "<span>by <small class=\"author\" itemprop=\"author\">Jane Austen</small>\n",
      "<a href=\"/author/Jane-Austen\">(about)</a>\n",
      "</span>\n",
      "<div class=\"tags\">\n",
      "            Tags:\n",
      "            <meta class=\"keywords\" content=\"aliteracy,books,classic,humor\" itemprop=\"keywords\"/>\n",
      "<a class=\"tag\" href=\"/tag/aliteracy/page/1/\">aliteracy</a>\n",
      "<a class=\"tag\" href=\"/tag/books/page/1/\">books</a>\n",
      "<a class=\"tag\" href=\"/tag/classic/page/1/\">classic</a>\n",
      "<a class=\"tag\" href=\"/tag/humor/page/1/\">humor</a>\n",
      "</div>\n",
      "</div>, <div class=\"quote\" itemscope=\"\" itemtype=\"http://schema.org/CreativeWork\">\n",
      "<span class=\"text\" itemprop=\"text\">“A day without sunshine is like, you know, night.”</span>\n",
      "<span>by <small class=\"author\" itemprop=\"author\">Steve Martin</small>\n",
      "<a href=\"/author/Steve-Martin\">(about)</a>\n",
      "</span>\n",
      "<div class=\"tags\">\n",
      "            Tags:\n",
      "            <meta class=\"keywords\" content=\"humor,obvious,simile\" itemprop=\"keywords\"/>\n",
      "<a class=\"tag\" href=\"/tag/humor/page/1/\">humor</a>\n",
      "<a class=\"tag\" href=\"/tag/obvious/page/1/\">obvious</a>\n",
      "<a class=\"tag\" href=\"/tag/simile/page/1/\">simile</a>\n",
      "</div>\n",
      "</div>, <div class=\"quote\" itemscope=\"\" itemtype=\"http://schema.org/CreativeWork\">\n",
      "<span class=\"text\" itemprop=\"text\">“Anyone who thinks sitting in church can make you a Christian must also think that sitting in a garage can make you a car.”</span>\n",
      "<span>by <small class=\"author\" itemprop=\"author\">Garrison Keillor</small>\n",
      "<a href=\"/author/Garrison-Keillor\">(about)</a>\n",
      "</span>\n",
      "<div class=\"tags\">\n",
      "            Tags:\n",
      "            <meta class=\"keywords\" content=\"humor,religion\" itemprop=\"keywords\"/>\n",
      "<a class=\"tag\" href=\"/tag/humor/page/1/\">humor</a>\n",
      "<a class=\"tag\" href=\"/tag/religion/page/1/\">religion</a>\n",
      "</div>\n",
      "</div>, <div class=\"quote\" itemscope=\"\" itemtype=\"http://schema.org/CreativeWork\">\n",
      "<span class=\"text\" itemprop=\"text\">“Beauty is in the eye of the beholder and it may be necessary from time to time to give a stupid or misinformed beholder a black eye.”</span>\n",
      "<span>by <small class=\"author\" itemprop=\"author\">Jim Henson</small>\n",
      "<a href=\"/author/Jim-Henson\">(about)</a>\n",
      "</span>\n",
      "<div class=\"tags\">\n",
      "            Tags:\n",
      "            <meta class=\"keywords\" content=\"humor\" itemprop=\"keywords\"/>\n",
      "<a class=\"tag\" href=\"/tag/humor/page/1/\">humor</a>\n",
      "</div>\n",
      "</div>, <div class=\"quote\" itemscope=\"\" itemtype=\"http://schema.org/CreativeWork\">\n",
      "<span class=\"text\" itemprop=\"text\">“All you need is love. But a little chocolate now and then doesn't hurt.”</span>\n",
      "<span>by <small class=\"author\" itemprop=\"author\">Charles M. Schulz</small>\n",
      "<a href=\"/author/Charles-M-Schulz\">(about)</a>\n",
      "</span>\n",
      "<div class=\"tags\">\n",
      "            Tags:\n",
      "            <meta class=\"keywords\" content=\"chocolate,food,humor\" itemprop=\"keywords\"/>\n",
      "<a class=\"tag\" href=\"/tag/chocolate/page/1/\">chocolate</a>\n",
      "<a class=\"tag\" href=\"/tag/food/page/1/\">food</a>\n",
      "<a class=\"tag\" href=\"/tag/humor/page/1/\">humor</a>\n",
      "</div>\n",
      "</div>, <div class=\"quote\" itemscope=\"\" itemtype=\"http://schema.org/CreativeWork\">\n",
      "<span class=\"text\" itemprop=\"text\">“Remember, we're madly in love, so it's all right to kiss me anytime you feel like it.”</span>\n",
      "<span>by <small class=\"author\" itemprop=\"author\">Suzanne Collins</small>\n",
      "<a href=\"/author/Suzanne-Collins\">(about)</a>\n",
      "</span>\n",
      "<div class=\"tags\">\n",
      "            Tags:\n",
      "            <meta class=\"keywords\" content=\"humor\" itemprop=\"keywords\"/>\n",
      "<a class=\"tag\" href=\"/tag/humor/page/1/\">humor</a>\n",
      "</div>\n",
      "</div>, <div class=\"quote\" itemscope=\"\" itemtype=\"http://schema.org/CreativeWork\">\n",
      "<span class=\"text\" itemprop=\"text\">“Some people never go crazy. What truly horrible lives they must lead.”</span>\n",
      "<span>by <small class=\"author\" itemprop=\"author\">Charles Bukowski</small>\n",
      "<a href=\"/author/Charles-Bukowski\">(about)</a>\n",
      "</span>\n",
      "<div class=\"tags\">\n",
      "            Tags:\n",
      "            <meta class=\"keywords\" content=\"humor\" itemprop=\"keywords\"/>\n",
      "<a class=\"tag\" href=\"/tag/humor/page/1/\">humor</a>\n",
      "</div>\n",
      "</div>, <div class=\"quote\" itemscope=\"\" itemtype=\"http://schema.org/CreativeWork\">\n",
      "<span class=\"text\" itemprop=\"text\">“The trouble with having an open mind, of course, is that people will insist on coming along and trying to put things in it.”</span>\n",
      "<span>by <small class=\"author\" itemprop=\"author\">Terry Pratchett</small>\n",
      "<a href=\"/author/Terry-Pratchett\">(about)</a>\n",
      "</span>\n",
      "<div class=\"tags\">\n",
      "            Tags:\n",
      "            <meta class=\"keywords\" content=\"humor,open-mind,thinking\" itemprop=\"keywords\"/>\n",
      "<a class=\"tag\" href=\"/tag/humor/page/1/\">humor</a>\n",
      "<a class=\"tag\" href=\"/tag/open-mind/page/1/\">open-mind</a>\n",
      "<a class=\"tag\" href=\"/tag/thinking/page/1/\">thinking</a>\n",
      "</div>\n",
      "</div>, <div class=\"quote\" itemscope=\"\" itemtype=\"http://schema.org/CreativeWork\">\n",
      "<span class=\"text\" itemprop=\"text\">“Think left and think right and think low and think high. Oh, the thinks you can think up if only you try!”</span>\n",
      "<span>by <small class=\"author\" itemprop=\"author\">Dr. Seuss</small>\n",
      "<a href=\"/author/Dr-Seuss\">(about)</a>\n",
      "</span>\n",
      "<div class=\"tags\">\n",
      "            Tags:\n",
      "            <meta class=\"keywords\" content=\"humor,philosophy\" itemprop=\"keywords\"/>\n",
      "<a class=\"tag\" href=\"/tag/humor/page/1/\">humor</a>\n",
      "<a class=\"tag\" href=\"/tag/philosophy/page/1/\">philosophy</a>\n",
      "</div>\n",
      "</div>, <div class=\"quote\" itemscope=\"\" itemtype=\"http://schema.org/CreativeWork\">\n",
      "<span class=\"text\" itemprop=\"text\">“The reason I talk to myself is because I’m the only one whose answers I accept.”</span>\n",
      "<span>by <small class=\"author\" itemprop=\"author\">George Carlin</small>\n",
      "<a href=\"/author/George-Carlin\">(about)</a>\n",
      "</span>\n",
      "<div class=\"tags\">\n",
      "            Tags:\n",
      "            <meta class=\"keywords\" content=\"humor,insanity,lies,lying,self-indulgence,truth\" itemprop=\"keywords\"/>\n",
      "<a class=\"tag\" href=\"/tag/humor/page/1/\">humor</a>\n",
      "<a class=\"tag\" href=\"/tag/insanity/page/1/\">insanity</a>\n",
      "<a class=\"tag\" href=\"/tag/lies/page/1/\">lies</a>\n",
      "<a class=\"tag\" href=\"/tag/lying/page/1/\">lying</a>\n",
      "<a class=\"tag\" href=\"/tag/self-indulgence/page/1/\">self-indulgence</a>\n",
      "<a class=\"tag\" href=\"/tag/truth/page/1/\">truth</a>\n",
      "</div>\n",
      "</div>]\n"
     ]
    }
   ],
   "source": [
    "print(len(quote))\n",
    "print(quote)"
   ]
  },
  {
   "cell_type": "code",
   "execution_count": 26,
   "metadata": {},
   "outputs": [
    {
     "name": "stdout",
     "output_type": "stream",
     "text": [
      "<span class=\"text\" itemprop=\"text\">“The person, be it gentleman or lady, who has not pleasure in a good novel, must be intolerably stupid.”</span>\n"
     ]
    }
   ],
   "source": [
    "wise = quote[0].find('span',class_=\"text\")\n",
    "print(wise)"
   ]
  },
  {
   "cell_type": "code",
   "execution_count": 28,
   "metadata": {},
   "outputs": [
    {
     "name": "stdout",
     "output_type": "stream",
     "text": [
      "“The person, be it gentleman or lady, who has not pleasure in a good novel, must be intolerably stupid.”\n",
      "“A day without sunshine is like, you know, night.”\n",
      "“Anyone who thinks sitting in church can make you a Christian must also think that sitting in a garage can make you a car.”\n",
      "“Beauty is in the eye of the beholder and it may be necessary from time to time to give a stupid or misinformed beholder a black eye.”\n",
      "“All you need is love. But a little chocolate now and then doesn't hurt.”\n",
      "“Remember, we're madly in love, so it's all right to kiss me anytime you feel like it.”\n",
      "“Some people never go crazy. What truly horrible lives they must lead.”\n",
      "“The trouble with having an open mind, of course, is that people will insist on coming along and trying to put things in it.”\n",
      "“Think left and think right and think low and think high. Oh, the thinks you can think up if only you try!”\n",
      "“The reason I talk to myself is because I’m the only one whose answers I accept.”\n"
     ]
    }
   ],
   "source": [
    "for i in range(len(quote)):\n",
    "    wise = quote[i].find('span',class_=\"text\")\n",
    "    print(wise.text)"
   ]
  },
  {
   "cell_type": "markdown",
   "metadata": {},
   "source": [
    "### 1페이지만이 아니라 다른 모든 페이지에서 가져올 때"
   ]
  },
  {
   "cell_type": "code",
   "execution_count": 80,
   "metadata": {},
   "outputs": [
    {
     "name": "stdout",
     "output_type": "stream",
     "text": [
      "“The person, be it gentleman or lady, who has not pleasure in a good novel, must be intolerably stupid.”\n",
      "“A day without sunshine is like, you know, night.”\n",
      "“Anyone who thinks sitting in church can make you a Christian must also think that sitting in a garage can make you a car.”\n",
      "“Beauty is in the eye of the beholder and it may be necessary from time to time to give a stupid or misinformed beholder a black eye.”\n",
      "“All you need is love. But a little chocolate now and then doesn't hurt.”\n",
      "“Remember, we're madly in love, so it's all right to kiss me anytime you feel like it.”\n",
      "“Some people never go crazy. What truly horrible lives they must lead.”\n",
      "“The trouble with having an open mind, of course, is that people will insist on coming along and trying to put things in it.”\n",
      "“Think left and think right and think low and think high. Oh, the thinks you can think up if only you try!”\n",
      "“The reason I talk to myself is because I’m the only one whose answers I accept.”\n",
      "Jane Austen\n",
      "Steve Martin\n",
      "Garrison Keillor\n",
      "Jim Henson\n",
      "Charles M. Schulz\n",
      "Suzanne Collins\n",
      "Charles Bukowski\n",
      "Terry Pratchett\n",
      "Dr. Seuss\n",
      "George Carlin\n",
      "“I am free of all prejudice. I hate everyone equally. ”\n",
      "“A lady's imagination is very rapid; it jumps from admiration to love, from love to matrimony in a moment.”\n",
      "W.C. Fields\n",
      "Jane Austen\n"
     ]
    }
   ],
   "source": [
    "from bs4 import BeautifulSoup\n",
    "import requests\n",
    "\n",
    "for page in range(2):\n",
    "    url = 'https://quotes.toscrape.com/tag/humor/page/'+str(page+1)+'/'\n",
    "    html = requests.get(url).text\n",
    "    soup = BeautifulSoup(html) \n",
    "\n",
    "    # find 사용\n",
    "    # quote = soup.find_all('div',class_=\"quote\")\n",
    "    # for i in range(len(quote)):\n",
    "    #     wise = quote[i].find('span',class_=\"text\")\n",
    "    #     print(wise.text)\n",
    "    \n",
    "    # select 사용\n",
    "    # quote = soup.select('div.quote > span.text')\n",
    "    # for i in quote:\n",
    "    #     print(i.text)\n",
    "    \n",
    "    # list 형식으로 만들기\n",
    "    quote = soup.select('div.quote > span.text')\n",
    "    quote_wise = [i.text for i in quote]\n",
    "    for i in quote_wise:\n",
    "        print(i) \n",
    "    \n",
    "    author = soup.select('div.quote > span > small.author')\n",
    "    author_wise = [i.text for i in author]\n",
    "    for i in author_wise:\n",
    "        print(i)\n"
   ]
  },
  {
   "cell_type": "code",
   "execution_count": 65,
   "metadata": {},
   "outputs": [
    {
     "data": {
      "text/plain": [
       "list"
      ]
     },
     "execution_count": 65,
     "metadata": {},
     "output_type": "execute_result"
    }
   ],
   "source": [
    "type(quote_wise)"
   ]
  },
  {
   "cell_type": "code",
   "execution_count": 83,
   "metadata": {},
   "outputs": [],
   "source": [
    "from bs4 import BeautifulSoup\n",
    "import requests\n",
    "import pandas as pd\n",
    "\n",
    "quote_wise = []\n",
    "author_wise = []\n",
    "\n",
    "for page in range(2):\n",
    "    url = 'https://quotes.toscrape.com/tag/humor/page/'+str(page+1)+'/'\n",
    "    html = requests.get(url).text\n",
    "    soup = BeautifulSoup(html) \n",
    "    \n",
    "    quote = soup.select('div.quote > span.text')\n",
    "    for i in quote:\n",
    "        quote_wise.append(i.text)\n",
    "    \n",
    "    author = soup.select('div.quote > span > small.author')\n",
    "    for i in author:\n",
    "        author_wise.append(i.text)\n",
    "\n",
    "df = pd.DataFrame({'wise':quote_wise,\n",
    "              'author': author_wise})\n",
    "\n",
    "df.to_csv('quote.csv')"
   ]
  },
  {
   "cell_type": "code",
   "execution_count": 84,
   "metadata": {},
   "outputs": [
    {
     "data": {
      "text/html": [
       "<div>\n",
       "<style scoped>\n",
       "    .dataframe tbody tr th:only-of-type {\n",
       "        vertical-align: middle;\n",
       "    }\n",
       "\n",
       "    .dataframe tbody tr th {\n",
       "        vertical-align: top;\n",
       "    }\n",
       "\n",
       "    .dataframe thead th {\n",
       "        text-align: right;\n",
       "    }\n",
       "</style>\n",
       "<table border=\"1\" class=\"dataframe\">\n",
       "  <thead>\n",
       "    <tr style=\"text-align: right;\">\n",
       "      <th></th>\n",
       "      <th>wise</th>\n",
       "      <th>author</th>\n",
       "    </tr>\n",
       "  </thead>\n",
       "  <tbody>\n",
       "    <tr>\n",
       "      <th>0</th>\n",
       "      <td>“The person, be it gentleman or lady, who has ...</td>\n",
       "      <td>Jane Austen</td>\n",
       "    </tr>\n",
       "    <tr>\n",
       "      <th>1</th>\n",
       "      <td>“A day without sunshine is like, you know, nig...</td>\n",
       "      <td>Steve Martin</td>\n",
       "    </tr>\n",
       "    <tr>\n",
       "      <th>2</th>\n",
       "      <td>“Anyone who thinks sitting in church can make ...</td>\n",
       "      <td>Garrison Keillor</td>\n",
       "    </tr>\n",
       "    <tr>\n",
       "      <th>3</th>\n",
       "      <td>“Beauty is in the eye of the beholder and it m...</td>\n",
       "      <td>Jim Henson</td>\n",
       "    </tr>\n",
       "    <tr>\n",
       "      <th>4</th>\n",
       "      <td>“All you need is love. But a little chocolate ...</td>\n",
       "      <td>Charles M. Schulz</td>\n",
       "    </tr>\n",
       "    <tr>\n",
       "      <th>5</th>\n",
       "      <td>“Remember, we're madly in love, so it's all ri...</td>\n",
       "      <td>Suzanne Collins</td>\n",
       "    </tr>\n",
       "    <tr>\n",
       "      <th>6</th>\n",
       "      <td>“Some people never go crazy. What truly horrib...</td>\n",
       "      <td>Charles Bukowski</td>\n",
       "    </tr>\n",
       "    <tr>\n",
       "      <th>7</th>\n",
       "      <td>“The trouble with having an open mind, of cour...</td>\n",
       "      <td>Terry Pratchett</td>\n",
       "    </tr>\n",
       "    <tr>\n",
       "      <th>8</th>\n",
       "      <td>“Think left and think right and think low and ...</td>\n",
       "      <td>Dr. Seuss</td>\n",
       "    </tr>\n",
       "    <tr>\n",
       "      <th>9</th>\n",
       "      <td>“The reason I talk to myself is because I’m th...</td>\n",
       "      <td>George Carlin</td>\n",
       "    </tr>\n",
       "    <tr>\n",
       "      <th>10</th>\n",
       "      <td>“I am free of all prejudice. I hate everyone e...</td>\n",
       "      <td>W.C. Fields</td>\n",
       "    </tr>\n",
       "    <tr>\n",
       "      <th>11</th>\n",
       "      <td>“A lady's imagination is very rapid; it jumps ...</td>\n",
       "      <td>Jane Austen</td>\n",
       "    </tr>\n",
       "  </tbody>\n",
       "</table>\n",
       "</div>"
      ],
      "text/plain": [
       "                                                 wise             author\n",
       "0   “The person, be it gentleman or lady, who has ...        Jane Austen\n",
       "1   “A day without sunshine is like, you know, nig...       Steve Martin\n",
       "2   “Anyone who thinks sitting in church can make ...   Garrison Keillor\n",
       "3   “Beauty is in the eye of the beholder and it m...         Jim Henson\n",
       "4   “All you need is love. But a little chocolate ...  Charles M. Schulz\n",
       "5   “Remember, we're madly in love, so it's all ri...    Suzanne Collins\n",
       "6   “Some people never go crazy. What truly horrib...   Charles Bukowski\n",
       "7   “The trouble with having an open mind, of cour...    Terry Pratchett\n",
       "8   “Think left and think right and think low and ...          Dr. Seuss\n",
       "9   “The reason I talk to myself is because I’m th...      George Carlin\n",
       "10  “I am free of all prejudice. I hate everyone e...        W.C. Fields\n",
       "11  “A lady's imagination is very rapid; it jumps ...        Jane Austen"
      ]
     },
     "execution_count": 84,
     "metadata": {},
     "output_type": "execute_result"
    }
   ],
   "source": [
    "df"
   ]
  },
  {
   "cell_type": "code",
   "execution_count": null,
   "metadata": {},
   "outputs": [],
   "source": []
  }
 ],
 "metadata": {
  "kernelspec": {
   "display_name": "data_analysis",
   "language": "python",
   "name": "python3"
  },
  "language_info": {
   "codemirror_mode": {
    "name": "ipython",
    "version": 3
   },
   "file_extension": ".py",
   "mimetype": "text/x-python",
   "name": "python",
   "nbconvert_exporter": "python",
   "pygments_lexer": "ipython3",
   "version": "3.13.1"
  }
 },
 "nbformat": 4,
 "nbformat_minor": 2
}
